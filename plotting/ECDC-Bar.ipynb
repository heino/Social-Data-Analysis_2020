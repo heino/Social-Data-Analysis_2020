{
 "cells": [
  {
   "cell_type": "code",
   "execution_count": 1,
   "metadata": {},
   "outputs": [],
   "source": [
    "#%load_ext autoreload\n",
    "#%autoreload 2"
   ]
  },
  {
   "cell_type": "code",
   "execution_count": 2,
   "metadata": {},
   "outputs": [],
   "source": [
    "import os\n",
    "import sys\n",
    "sys.path.insert(0, os.path.abspath('../modules'))"
   ]
  },
  {
   "cell_type": "code",
   "execution_count": 3,
   "metadata": {},
   "outputs": [],
   "source": [
    "from bokeh.io import output_notebook, output_file, save, show\n",
    "from bokeh.plotting import figure\n",
    "from bokeh.layouts import gridplot, column, row\n",
    "from bokeh.models import ColumnDataSource, Legend, NumeralTickFormatter, Text\n",
    "from bokeh.models import HoverTool,PanTool,ResetTool,HoverTool,WheelZoomTool,SaveTool,BoxZoomTool,UndoTool,RedoTool,SaveTool,ZoomInTool,ZoomOutTool\n",
    "from bokeh.palettes import magma\n",
    "import datetime"
   ]
  },
  {
   "cell_type": "code",
   "execution_count": 4,
   "metadata": {},
   "outputs": [],
   "source": [
    "import own.funny as funny\n",
    "\n",
    "import own.data.ecdc as ECDC\n",
    "import own.data.countries as Countries\n",
    "\n",
    "from own.colors import focus_countries"
   ]
  },
  {
   "cell_type": "code",
   "execution_count": 5,
   "metadata": {},
   "outputs": [],
   "source": [
    "population = ECDC.population()\n",
    "population = population.div(1000000)\n",
    "\n",
    "population = population[population.index.isin(focus_countries.keys())]\n",
    "population['population_rounded'] = population['population'].round(0)\n",
    "\n",
    "population = population.merge(\n",
    "    Countries.country_names()['common_name'][focus_countries],\n",
    "    left_index=True, right_index=True\n",
    ")"
   ]
  },
  {
   "cell_type": "code",
   "execution_count": 6,
   "metadata": {},
   "outputs": [],
   "source": [
    "def TOOLS():\n",
    "    return[\n",
    "        HoverTool(),\n",
    "        BoxZoomTool(dimensions='both'),\n",
    "        PanTool(dimensions='both'),\n",
    "        ZoomInTool(),\n",
    "        ZoomOutTool(),\n",
    "        ResetTool(),\n",
    "        SaveTool(),\n",
    "        UndoTool(),\n",
    "        RedoTool(),\n",
    "    ]"
   ]
  },
  {
   "cell_type": "code",
   "execution_count": 7,
   "metadata": {},
   "outputs": [],
   "source": [
    "#population = population.sort_values(by='population', ascending=False) #.iloc[0:25]\n",
    "\n",
    "source = ColumnDataSource(data=dict(\n",
    "    country_code = population.index.values.tolist(),\n",
    "    country_name = population['common_name'],\n",
    "    population = population['population'],\n",
    "    population_rounded = population['population_rounded'],\n",
    "))\n",
    "\n",
    "\n",
    "p = figure(\n",
    "    plot_height = 250, plot_width = 583,\n",
    "#    x_range = population.index.values.tolist(),\n",
    "    x_range = population['common_name'],\n",
    "    y_axis_label = 'Population size (mio)',\n",
    "    y_axis_location = 'right',\n",
    "    tools = TOOLS(),\n",
    "    title='Population size (mio)',\n",
    "    \n",
    "    tooltips = [\n",
    "        (\"Country\", \"@country_name\"),\n",
    "        (\"Population (mio)\", \"@population\"),\n",
    "    ],\n",
    ")\n",
    "\n",
    "p.yaxis[0].formatter = NumeralTickFormatter(format=\"1,000\")\n",
    "\n",
    "p.xaxis.major_label_orientation = 0\n",
    "p.yaxis.minor_tick_line_color = None\n",
    "\n",
    "p.xaxis.major_tick_line_color = None\n",
    "p.xaxis.major_label_text_font_size = '9.5pt'\n",
    "p.xaxis.major_label_text_font_style = 'bold'\n",
    "p.xaxis.axis_line_width = 0\n",
    "p.xaxis.axis_line_color = None\n",
    "\n",
    "p.y_range.start = 0\n",
    "\n",
    "p.xgrid.visible = False\n",
    "\n",
    "p.ygrid.grid_line_color = 'blue'\n",
    "p.ygrid.grid_line_alpha = 0.1\n",
    "\n",
    "\n",
    "p.background_fill_color = '#f0f0f0'\n",
    "p.background_fill_alpha = 0.20\n",
    "\n",
    "p.toolbar.logo = None\n",
    "\n",
    "p.x_range.range_padding = 0.025\n",
    "\n",
    "p.vbar(\n",
    "    x='country_name', \n",
    "    top='population',\n",
    "    bottom=0.001,\n",
    "    source=source,\n",
    "    width=0.67,\n",
    "    muted_alpha=0.33,\n",
    ")\n",
    "\n",
    "from bokeh.models import LabelSet\n",
    "\n",
    "labels = LabelSet(\n",
    "    x='country_name', y='population',\n",
    "    text='population_rounded',\n",
    "#    text='country_name',\n",
    "    level='glyph',\n",
    "    x_offset=-15.5, y_offset=2,\n",
    "    source=source,\n",
    "    render_mode='css', #render_mode='canvas',\n",
    "    text_color='#000066',\n",
    "    text_alpha=0.67,\n",
    "    text_font_size='9pt',\n",
    "    border_line_color='gray',\n",
    "    border_line_alpha=0.1,\n",
    "    background_fill_color='#ffffff',\n",
    "    background_fill_alpha=0.5,\n",
    ")\n",
    "p.add_layout(labels)\n",
    "\n",
    "grid = gridplot(\n",
    "    [p],\n",
    "    ncols = 1,\n",
    "    sizing_mode='scale_both',\n",
    "    merge_tools = True,\n",
    "    toolbar_options = dict(logo=None),\n",
    "    toolbar_location = 'right',\n",
    ")\n",
    "\n",
    "if funny.is_save_for_later():\n",
    "    funny.save_for_later('ecdc-bar', grid)\n",
    "\n",
    "if funny.is_save_to_public():\n",
    "    output_file('../docs/plots/ecdc-bar.html', mode='inline')#, mode='relative-dev', root_dir='../lib/bokeh/2.0.1')\n",
    "    save(grid)\n",
    "\n",
    "if funny.is_display():\n",
    "    output_notebook()\n",
    "    show(grid)"
   ]
  },
  {
   "cell_type": "code",
   "execution_count": null,
   "metadata": {},
   "outputs": [],
   "source": []
  }
 ],
 "metadata": {
  "kernelspec": {
   "display_name": "Python 3",
   "language": "python",
   "name": "python3"
  },
  "language_info": {
   "codemirror_mode": {
    "name": "ipython",
    "version": 3
   },
   "file_extension": ".py",
   "mimetype": "text/x-python",
   "name": "python",
   "nbconvert_exporter": "python",
   "pygments_lexer": "ipython3",
   "version": "3.7.6"
  },
  "widgets": {
   "application/vnd.jupyter.widget-state+json": {
    "state": {},
    "version_major": 2,
    "version_minor": 0
   }
  }
 },
 "nbformat": 4,
 "nbformat_minor": 4
}
