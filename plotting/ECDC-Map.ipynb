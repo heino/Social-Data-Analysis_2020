{
 "cells": [
  {
   "cell_type": "code",
   "execution_count": 1,
   "metadata": {},
   "outputs": [],
   "source": [
    "#%load_ext autoreload\n",
    "#%autoreload 2"
   ]
  },
  {
   "cell_type": "code",
   "execution_count": 2,
   "metadata": {},
   "outputs": [],
   "source": [
    "import os\n",
    "import sys\n",
    "sys.path.insert(0, os.path.abspath('../modules'))"
   ]
  },
  {
   "cell_type": "code",
   "execution_count": 3,
   "metadata": {},
   "outputs": [],
   "source": [
    "import pandas as pd\n",
    "import numpy as np\n",
    "import folium\n",
    "\n",
    "import own.data.countries as Countries\n",
    "import own.data.ecdc as ECDC"
   ]
  },
  {
   "cell_type": "code",
   "execution_count": 4,
   "metadata": {},
   "outputs": [],
   "source": [
    "import own.funny as funny"
   ]
  },
  {
   "cell_type": "markdown",
   "metadata": {},
   "source": [
    "# Data prep"
   ]
  },
  {
   "cell_type": "code",
   "execution_count": 5,
   "metadata": {},
   "outputs": [],
   "source": [
    "countriesGeojson = Countries.geometries_110m_json()"
   ]
  },
  {
   "cell_type": "code",
   "execution_count": 6,
   "metadata": {},
   "outputs": [],
   "source": [
    "deaths = ECDC.deaths().unstack()\n",
    "\n",
    "# Remove NaN by setting the to null (since NaN corrupts color mapping)\n",
    "deaths.fillna(0.0, inplace=True)\n",
    "\n",
    "# Make columns cumulative sum columns\n",
    "deaths = deaths.cumsum(skipna=True)\n",
    "\n",
    "first_death_per_country = ECDC.first_death_date_per_country()\n",
    "population = ECDC.population()"
   ]
  },
  {
   "cell_type": "markdown",
   "metadata": {},
   "source": [
    "# Misc"
   ]
  },
  {
   "cell_type": "code",
   "execution_count": 7,
   "metadata": {},
   "outputs": [],
   "source": [
    "import branca.colormap as cm\n",
    "\n",
    "cmap = cm.LinearColormap(\n",
    "    colors=['green','lightgreen','yellow','red','brown'],\n",
    "    index=[0, 100, 1500, 30000, 50000],\n",
    "    vmin=0,\n",
    "#    vmax=max_color,\n",
    "    vmax=100000,\n",
    ")\n",
    "\n",
    "if funny.is_display():\n",
    "    cmap"
   ]
  },
  {
   "cell_type": "markdown",
   "metadata": {},
   "source": [
    "# Choropleth"
   ]
  },
  {
   "cell_type": "code",
   "execution_count": 8,
   "metadata": {},
   "outputs": [],
   "source": [
    "geo_deaths = deaths.loc[deaths.index.max()]\n",
    "\n",
    "geo = countriesGeojson\n",
    "\n",
    "for feature in geo['features']:\n",
    "    \n",
    "    country_code = feature['id']\n",
    "    \n",
    "# Inlcude total number of deaths in geojson\n",
    "    if country_code in geo_deaths.index.values:\n",
    "        value = geo_deaths[country_code]\n",
    "    else:\n",
    "        value = -1\n",
    "    feature['properties']['deaths'] = value\n",
    "\n",
    "# Include date of first death in geojson\n",
    "    if (country_code in first_death_per_country.index):\n",
    "        date = first_death_per_country.loc[country_code]['date']\n",
    "        if (not pd.isnull(date)):\n",
    "            value = date.strftime('%Y-%m-%d')\n",
    "        else:\n",
    "            value = None\n",
    "    else:\n",
    "        value = None\n",
    "    feature['properties']['first_death'] = value\n",
    "    \n",
    "# Include population in geojson\n",
    "    if (country_code in population.index):\n",
    "        count = population.loc[country_code]['population']\n",
    "        if (not np.NaN == count):\n",
    "            value = count\n",
    "        else:\n",
    "            value = None\n",
    "    else:\n",
    "        value = None\n",
    "    feature['properties']['population'] = value"
   ]
  },
  {
   "cell_type": "code",
   "execution_count": 9,
   "metadata": {},
   "outputs": [],
   "source": [
    "def generate_choropleth(source):\n",
    "\n",
    "    map = folium.Map(location=[25, 0], tiles='cartodbpositron', zoom_start=2)\n",
    "\n",
    "    geojson = folium.GeoJson(\n",
    "        source,\n",
    "        style_function = lambda feature: {\n",
    "            'fillColor': cmap(feature['properties']['deaths']),\n",
    "            'fillOpacity': 0.80,\n",
    "            'color' : 'white',\n",
    "            'weight' : 1,\n",
    "            'dashArray' : '5, 5'\n",
    "            }\n",
    "        ).add_to(map)\n",
    "\n",
    "    geojson.add_child(\n",
    "        folium.features.GeoJsonTooltip(\n",
    "            [\n",
    "                'name_en',\n",
    "                'deaths',\n",
    "                'first_death',\n",
    "                'population',\n",
    "                #'iso3166_a3',\n",
    "            ],\n",
    "            aliases = [\n",
    "                'Country',\n",
    "                'Total deaths',\n",
    "                'First death data',\n",
    "                'Population (2018)',\n",
    "                #'country code',\n",
    "            ],\n",
    "            labels=True,\n",
    "            #style='background-color: #0099cc;',\n",
    "            opacity=0.75,\n",
    "            className='x',\n",
    "            attribution='...'\n",
    "        )\n",
    "    )\n",
    "\n",
    "    cmap.add_to(map)\n",
    "\n",
    "    return map\n",
    "\n",
    "map = generate_choropleth(countriesGeojson)\n",
    "\n",
    "if funny.is_save_for_later():\n",
    "    funny.save_for_later('ecdc-choropleth', map)\n",
    "    \n",
    "if funny.is_save_to_public():\n",
    "    map.save('../docs/plots/ecdc-choropleth.html')\n",
    "\n",
    "if funny.is_display():\n",
    "    display(map)"
   ]
  },
  {
   "cell_type": "markdown",
   "metadata": {},
   "source": [
    "# TimeSliderChoropleth"
   ]
  },
  {
   "cell_type": "code",
   "execution_count": 10,
   "metadata": {},
   "outputs": [],
   "source": [
    "# Unly use a subset from a certain date\n",
    "deaths_epoch = deaths.loc['2020-03-01':]\n",
    "# Translate datetime index into unix epoch time\n",
    "deaths_epoch.index = deaths_epoch.index.astype(np.int64) // 10 ** 9\n",
    "\n",
    "styledata = {}\n",
    "\n",
    "# Iterate over all countries\n",
    "for country in deaths_epoch.keys():\n",
    "    # Create dateframe per country\n",
    "    styledata[country] = pd.DataFrame(\n",
    "        {\n",
    "            'color': deaths_epoch[country],\n",
    "            'opacity': deaths_epoch[country],\n",
    "            'value': deaths_epoch[country], # This is actually not used\n",
    "        }\n",
    "    )"
   ]
  },
  {
   "cell_type": "code",
   "execution_count": 11,
   "metadata": {},
   "outputs": [],
   "source": [
    "max_color, min_color, max_opacity, min_opacity = 0, 0, 0, 0\n",
    "\n",
    "for country, data in styledata.items():\n",
    "    max_color = max(max_color, data['color'].max())\n",
    "    min_color = min(max_color, data['color'].min())\n",
    "    max_opacity = max(max_color, data['opacity'].max())\n",
    "    max_opacity = min(max_color, data['opacity'].max())\n",
    "\n",
    "\n",
    "def norm(x):\n",
    "    return (x - x.min()) / (x.max() - x.min())     + 0.10\n",
    "#    return 0.75\n",
    "\n",
    "for country, data in styledata.items():\n",
    "    data['color'] = data['color'].apply(cmap)\n",
    "    data['opacity'] = norm(data['opacity'])"
   ]
  },
  {
   "cell_type": "code",
   "execution_count": 12,
   "metadata": {},
   "outputs": [],
   "source": [
    "styledict = {\n",
    "    str(country): data.drop('value', axis=1).to_dict(orient='index') for\n",
    "        country, data in styledata.items()\n",
    "}"
   ]
  },
  {
   "cell_type": "code",
   "execution_count": 13,
   "metadata": {},
   "outputs": [],
   "source": [
    "from folium.plugins import TimeSliderChoropleth\n",
    "\n",
    "def generate_timeslider_choropleth():\n",
    "    map = folium.Map([0, 0], zoom_start=2)\n",
    "\n",
    "    g = TimeSliderChoropleth(\n",
    "        countriesGeojson,\n",
    "        styledict=styledict,\n",
    "        name=\"dummy_name_for_d3\"\n",
    "    ).add_to(map)\n",
    "\n",
    "    cmap.add_to(map)\n",
    "\n",
    "    return map\n",
    "\n",
    "map = generate_timeslider_choropleth()\n",
    "\n",
    "if funny.is_save_for_later():\n",
    "    funny.save_for_later('ecdc-choropleth-timed', map)\n",
    "    \n",
    "if funny.is_save_to_public():\n",
    "    map.save('../docs/plots/ecdc-choropleth-timed.html')\n",
    "\n",
    "if funny.is_display():\n",
    "    display(map)"
   ]
  }
 ],
 "metadata": {
  "kernelspec": {
   "display_name": "Python 3",
   "language": "python",
   "name": "python3"
  },
  "language_info": {
   "codemirror_mode": {
    "name": "ipython",
    "version": 3
   },
   "file_extension": ".py",
   "mimetype": "text/x-python",
   "name": "python",
   "nbconvert_exporter": "python",
   "pygments_lexer": "ipython3",
   "version": "3.7.6"
  },
  "widgets": {
   "application/vnd.jupyter.widget-state+json": {
    "state": {},
    "version_major": 2,
    "version_minor": 0
   }
  }
 },
 "nbformat": 4,
 "nbformat_minor": 4
}
