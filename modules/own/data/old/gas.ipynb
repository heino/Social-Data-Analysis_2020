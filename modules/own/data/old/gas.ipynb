{
 "cells": [
  {
   "cell_type": "code",
   "execution_count": 1,
   "metadata": {},
   "outputs": [],
   "source": [
    "import pandas as pd\n",
    "import numpy as np"
   ]
  },
  {
   "cell_type": "code",
   "execution_count": null,
   "metadata": {},
   "outputs": [],
   "source": [
    "if not 'ROOT' in globals():\n",
    "    import os\n",
    "    ROOT = os.getcwd() + '/../..'"
   ]
  },
  {
   "cell_type": "code",
   "execution_count": 2,
   "metadata": {},
   "outputs": [],
   "source": [
    "# Make sure output dir exists\n",
    "#if not os.path.exists(outdir):\n",
    "#    os.mkdir(outdir)"
   ]
  },
  {
   "cell_type": "code",
   "execution_count": 4,
   "metadata": {},
   "outputs": [],
   "source": [
    "import os\n",
    "\n",
    "class Gas:\n",
    "\n",
    "    indir = ROOT + '/data/raw/gas'\n",
    "    outdir = ROOT + '/data/processed/gas'\n",
    "\n",
    "    data = None\n",
    "    \n",
    "    def load():\n",
    "        Gas.data = pd.read_csv(\n",
    "            Gas.indir + '/daily_csv.csv',\n",
    "            index_col = 'Date',\n",
    "            parse_dates = ['Date'], keep_date_col=True\n",
    "        )"
   ]
  },
  {
   "cell_type": "code",
   "execution_count": 6,
   "metadata": {},
   "outputs": [],
   "source": [
    "Gas.load()"
   ]
  }
 ],
 "metadata": {
  "kernelspec": {
   "display_name": "Python 3",
   "language": "python",
   "name": "python3"
  },
  "language_info": {
   "codemirror_mode": {
    "name": "ipython",
    "version": 3
   },
   "file_extension": ".py",
   "mimetype": "text/x-python",
   "name": "python",
   "nbconvert_exporter": "python",
   "pygments_lexer": "ipython3",
   "version": "3.7.6"
  },
  "widgets": {
   "application/vnd.jupyter.widget-state+json": {
    "state": {},
    "version_major": 2,
    "version_minor": 0
   }
  }
 },
 "nbformat": 4,
 "nbformat_minor": 4
}
