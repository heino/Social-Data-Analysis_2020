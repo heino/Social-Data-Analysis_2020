{
 "cells": [
  {
   "cell_type": "code",
   "execution_count": 1,
   "metadata": {},
   "outputs": [],
   "source": [
    "import pandas as pd\n",
    "import numpy as np"
   ]
  },
  {
   "cell_type": "code",
   "execution_count": 2,
   "metadata": {},
   "outputs": [],
   "source": [
    "if not 'ROOT' in globals():\n",
    "    import os\n",
    "    ROOT = os.getcwd() + '/../..'"
   ]
  },
  {
   "cell_type": "code",
   "execution_count": 3,
   "metadata": {},
   "outputs": [],
   "source": [
    "# Make sure output dir exists\n",
    "#if not os.path.exists(outdir):\n",
    "#    os.mkdir(outdir)"
   ]
  },
  {
   "cell_type": "code",
   "execution_count": 4,
   "metadata": {},
   "outputs": [],
   "source": [
    "import os\n",
    "\n",
    "class Stocks:\n",
    "\n",
    "    indir = ROOT + '/data/raw/stocks/'\n",
    "    outdir = ROOT + '/data/processed/stocks/'\n",
    "\n",
    "    data = None;\n",
    "    \n",
    "    def load():\n",
    "        df = pd.read_excel(\n",
    "            Stocks.indir + 'Markets.xlsx',\n",
    "            header=0,\n",
    "        )\n",
    "\n",
    "        df.rename(columns={\n",
    "            'Index ': 'index',\n",
    "            'ISO3166-1-Alpha-3': 'country',\n",
    "        }, inplace=True)\n",
    "        \n",
    "        df['index'] = df['index'].str.rstrip(' Index')\n",
    "        \n",
    "        Stocks.data = df\n",
    "\n",
    "        \n",
    "    def valuesByCountry():\n",
    "        df = Stocks.data.drop(columns={'index', 'Country/Region'}).set_index(['country']).transpose()\n",
    "        df.index.name = 'date'\n",
    "        df.index = pd.to_datetime(df.index)\n",
    "        return df\n",
    "\n",
    "    def valuesByIndex():\n",
    "        df = Stocks.data.drop(columns={'country', 'Country/Region'}).set_index(['index']).transpose()\n",
    "        df.index.name = 'date'\n",
    "        df.index = pd.to_datetime(df.index)\n",
    "        return df\n",
    "\n",
    "    def indexCountries():\n",
    "        return Stocks.data[['index', 'country']].drop_duplicates().reset_index(drop=True)\n",
    "    \n",
    "Stocks.load()"
   ]
  },
  {
   "cell_type": "code",
   "execution_count": 5,
   "metadata": {},
   "outputs": [],
   "source": [
    "#Stocks.indexCountries()\n",
    "#Stocks.valuesByCountry()\n",
    "#Stocks.valuesByIndex()"
   ]
  },
  {
   "cell_type": "code",
   "execution_count": null,
   "metadata": {},
   "outputs": [],
   "source": []
  }
 ],
 "metadata": {
  "kernelspec": {
   "display_name": "Python 3",
   "language": "python",
   "name": "python3"
  },
  "language_info": {
   "codemirror_mode": {
    "name": "ipython",
    "version": 3
   },
   "file_extension": ".py",
   "mimetype": "text/x-python",
   "name": "python",
   "nbconvert_exporter": "python",
   "pygments_lexer": "ipython3",
   "version": "3.7.6"
  },
  "widgets": {
   "application/vnd.jupyter.widget-state+json": {
    "state": {},
    "version_major": 2,
    "version_minor": 0
   }
  }
 },
 "nbformat": 4,
 "nbformat_minor": 4
}
