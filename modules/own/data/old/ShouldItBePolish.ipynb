{
 "cells": [
  {
   "cell_type": "code",
   "execution_count": 1,
   "metadata": {},
   "outputs": [],
   "source": [
    "%load_ext autoreload\n",
    "%autoreload 2"
   ]
  },
  {
   "cell_type": "code",
   "execution_count": 2,
   "metadata": {},
   "outputs": [],
   "source": [
    "import os\n",
    "import sys\n",
    "sys.path.insert(0, os.path.abspath('../../'))"
   ]
  },
  {
   "cell_type": "code",
   "execution_count": 3,
   "metadata": {},
   "outputs": [],
   "source": [
    "#%run ecdc.ipynb\n",
    "#%run countries.ipynb\n",
    "#%run owid.ipynb\n",
    "\n",
    "import data.scripts.ecdc\n",
    "import data.scripts.countries\n",
    "import data.scripts.owid"
   ]
  },
  {
   "cell_type": "code",
   "execution_count": 4,
   "metadata": {},
   "outputs": [],
   "source": [
    "class ShouldItBePolish:\n",
    "    \n",
    "    def ecdc_totals():\n",
    "        y = ECDC.data[['cases', 'deaths']].unstack().cumsum().stack()\n",
    "        y.columns = ['cases_total', 'deaths_total']\n",
    "        return y\n",
    "    \n",
    "    def ecdc_with_totals():\n",
    "        return pd.concat((\n",
    "            ECDC.data.drop(['continent', 'name', 'reported'], axis=1),\n",
    "            ShouldItBePolish.ecdc_totals()\n",
    "        ), axis=1)\n",
    "    \n",
    "\n",
    "    def ecdc_with_totals_and_population():\n",
    "        return pd.merge(\n",
    "            ShouldItBePolish.ecdc_with_totals().reset_index().set_index('country'),\n",
    "            ECDC.population(),\n",
    "            left_index=True, right_index=True,\n",
    "            how='left'\n",
    "        ).reset_index().set_index(['date','country'])\n",
    "\n",
    "    def eced_with_total_and_tests():\n",
    "        owid = OWID.data.drop('name', axis=1)\n",
    "        owid.columns = ['tests_total', 'tests_new', 'tests_units']\n",
    "\n",
    "        return pd.merge(\n",
    "            ShouldItBePolish.ecdc_with_totals_and_population(),\n",
    "            owid,\n",
    "            left_index=True, right_index=True,\n",
    "            suffixes=('_ecdc', '_owid'),\n",
    "            how='outer'\n",
    "        )\n",
    "    \n",
    "    def with_countries():\n",
    "        return pd.merge(\n",
    "            ShouldItBePolish.eced_with_total_and_tests(),\n",
    "            Countries.country_geography(),\n",
    "            left_index=True, right_index=True,\n",
    "            suffixes=('_ecdc', '_countries'),\n",
    "            how='outer'\n",
    "        )\n",
    "    \n",
    "    def with_countries_names():\n",
    "        return pd.merge(\n",
    "            ShouldItBePolish.with_countries(),\n",
    "            Countries.country_names(),\n",
    "            left_index=True, right_index=True,\n",
    "            suffixes=('_ecdc', '_countries'),\n",
    "            how='outer'\n",
    "    )\n",
    "    \n",
    "    def with_development():\n",
    "        return pd.merge(\n",
    "            ShouldItBePolish.with_countries_names(),\n",
    "            Countries.country_development(),\n",
    "            left_index=True, right_index=True,\n",
    "            suffixes=('_ecdc', '_countries'),\n",
    "            how='outer'\n",
    "    )\n",
    "    \n",
    "    "
   ]
  },
  {
   "cell_type": "code",
   "execution_count": 5,
   "metadata": {},
   "outputs": [],
   "source": [
    "#ShouldItBePolish.ecdc_totals()"
   ]
  },
  {
   "cell_type": "code",
   "execution_count": 6,
   "metadata": {},
   "outputs": [],
   "source": [
    "#ShouldItBePolish.ecdc_with_totals()"
   ]
  },
  {
   "cell_type": "code",
   "execution_count": 7,
   "metadata": {},
   "outputs": [],
   "source": [
    "# ShouldItBePolish.eced_with_total_and_tests()"
   ]
  },
  {
   "cell_type": "code",
   "execution_count": 8,
   "metadata": {},
   "outputs": [],
   "source": [
    "# ShouldItBePolish.with_countries()"
   ]
  },
  {
   "cell_type": "code",
   "execution_count": 9,
   "metadata": {},
   "outputs": [],
   "source": [
    "# ShouldItBePolish.with_countries_names()"
   ]
  },
  {
   "cell_type": "code",
   "execution_count": 10,
   "metadata": {},
   "outputs": [],
   "source": [
    "# ShouldItBePolish.with_development()"
   ]
  }
 ],
 "metadata": {
  "kernelspec": {
   "display_name": "Python 3",
   "language": "python",
   "name": "python3"
  },
  "language_info": {
   "codemirror_mode": {
    "name": "ipython",
    "version": 3
   },
   "file_extension": ".py",
   "mimetype": "text/x-python",
   "name": "python",
   "nbconvert_exporter": "python",
   "pygments_lexer": "ipython3",
   "version": "3.7.6"
  },
  "widgets": {
   "application/vnd.jupyter.widget-state+json": {
    "state": {},
    "version_major": 2,
    "version_minor": 0
   }
  }
 },
 "nbformat": 4,
 "nbformat_minor": 4
}
