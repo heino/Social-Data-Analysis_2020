{
 "cells": [
  {
   "cell_type": "code",
   "execution_count": 3,
   "metadata": {},
   "outputs": [],
   "source": [
    "import pandas as pd\n",
    "import numpy as np"
   ]
  },
  {
   "cell_type": "code",
   "execution_count": null,
   "metadata": {},
   "outputs": [],
   "source": [
    "if not 'ROOT' in globals():\n",
    "    import os\n",
    "    ROOT = os.getcwd() + '/../..'"
   ]
  },
  {
   "cell_type": "code",
   "execution_count": 4,
   "metadata": {},
   "outputs": [],
   "source": [
    "# Make sure output dir exists\n",
    "#if not os.path.exists(outdir):\n",
    "#    os.mkdir(outdir)"
   ]
  },
  {
   "cell_type": "code",
   "execution_count": 5,
   "metadata": {},
   "outputs": [],
   "source": [
    "import os\n",
    "\n",
    "class DOLT:\n",
    "    \n",
    "    indir = ROOT + '/data/raw/dolt'\n",
    "    outdir = ROOT + '/data/processed/dolt'\n",
    "\n",
    "    data_places = None\n",
    "    data_cases = None\n",
    "    data_details = None\n",
    "    \n",
    "    def load():\n",
    "        \n",
    "        DOLT.data_places = pd.read_csv(\n",
    "            DOLT.indir + '/places.csv',\n",
    "        #   names = ['place_id', 'country_region', 'province_state', 'latitude', 'longitude'],\n",
    "            index_col='place_id',\n",
    "            header=0,\n",
    "            dtype = {\n",
    "                'place_id': np.int64,\n",
    "                'province_state': 'category',\n",
    "                'country_region': 'category',\n",
    "                'latitude': np.float64,\n",
    "                'longitude': np.float64\n",
    "            },\n",
    "        )\n",
    "        \n",
    "        DOLT.data_cases = pd.read_csv(\n",
    "            DOLT.indir + '/cases.csv',\n",
    "        #   names = ['observation_time', 'place_id', 'confirmed_count', 'recovered_count', 'death_count'],\n",
    "            index_col=['observation_time','place_id'],\n",
    "            header=0,\n",
    "            dtype = {\n",
    "                'place_id': np.int64,\n",
    "        #        'confirmed_count': np.int64, # Can't handle NaN\n",
    "        #        'recovered_count': np.int64, # Can't handle NaN\n",
    "        #        'death_count': np.int64      # Can't handle NaN\n",
    "            },\n",
    "            parse_dates = ['observation_time'],\n",
    "        )\n",
    "        \n",
    "        DOLT.data_datails = pd.read_csv(\n",
    "            DOLT.indir + '/case_details.csv',\n",
    "        #   names = ['source', 'case_id', 'case_name', 'age', 'sex', 'nationality', 'current_status', 'symptomatic_date', 'confirmed_date', 'recovered_date', 'place_id'],\n",
    "            index_col=['case_id'],\n",
    "            header=0,\n",
    "            dtype = {\n",
    "                'source': 'category',\n",
    "                'case_id': np.int64,\n",
    "        #       'case_name': '',\n",
    "        #       'age': np.int64,\n",
    "        #       'sex': '',\n",
    "                'nationality': 'category',\n",
    "                'current_status': 'category',\n",
    "        #       'symptomatic_date': 'datetime',\n",
    "        #       'confirmed_date': 'datetime',\n",
    "        #       'recovered_date': 'datetime',\n",
    "                'place_id': np.int64,\n",
    "            },\n",
    "            parse_dates = {\n",
    "                'symptomatic': ['symptomatic_date'],\n",
    "                'confirmed': ['confirmed_date'],\n",
    "                'recovered': ['recovered_date']\n",
    "            },\n",
    "        )"
   ]
  },
  {
   "cell_type": "code",
   "execution_count": 6,
   "metadata": {},
   "outputs": [],
   "source": [
    "DOLT.load()"
   ]
  },
  {
   "cell_type": "markdown",
   "metadata": {},
   "source": [
    "# Save to CSV"
   ]
  },
  {
   "cell_type": "code",
   "execution_count": 6,
   "metadata": {},
   "outputs": [],
   "source": [
    "if False:\n",
    "    \n",
    "    DOLT.data_places.to_csv(\n",
    "        outdir + '/places.csv',\n",
    "        sep='|'\n",
    "    )\n",
    "    \n",
    "    DOLT.data_cases.to_csv(\n",
    "        outdir + '/cases.csv',\n",
    "        sep='|'\n",
    "    )\n",
    "    \n",
    "    DOLT.data_datails.to_csv(\n",
    "        outdir + '/case_details.csv',\n",
    "        sep='|'\n",
    "    )"
   ]
  }
 ],
 "metadata": {
  "kernelspec": {
   "display_name": "Python 3",
   "language": "python",
   "name": "python3"
  },
  "language_info": {
   "codemirror_mode": {
    "name": "ipython",
    "version": 3
   },
   "file_extension": ".py",
   "mimetype": "text/x-python",
   "name": "python",
   "nbconvert_exporter": "python",
   "pygments_lexer": "ipython3",
   "version": "3.7.6"
  },
  "widgets": {
   "application/vnd.jupyter.widget-state+json": {
    "state": {},
    "version_major": 2,
    "version_minor": 0
   }
  }
 },
 "nbformat": 4,
 "nbformat_minor": 4
}
