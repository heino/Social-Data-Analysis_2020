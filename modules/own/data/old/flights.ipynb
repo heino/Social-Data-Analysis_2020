{
 "cells": [
  {
   "cell_type": "code",
   "execution_count": 1,
   "metadata": {},
   "outputs": [],
   "source": [
    "import pandas as pd"
   ]
  },
  {
   "cell_type": "code",
   "execution_count": null,
   "metadata": {},
   "outputs": [],
   "source": [
    "if not 'ROOT' in globals():\n",
    "    import os\n",
    "    ROOT = os.getcwd() + '/../..'"
   ]
  },
  {
   "cell_type": "code",
   "execution_count": 2,
   "metadata": {},
   "outputs": [],
   "source": [
    "# Make sure output dir exists\n",
    "#if not os.path.exists(outdir):\n",
    "#    os.mkdir(outdir)"
   ]
  },
  {
   "cell_type": "code",
   "execution_count": 35,
   "metadata": {},
   "outputs": [],
   "source": [
    "import glob\n",
    "import os\n",
    "\n",
    "class Flights:\n",
    "    \n",
    "    indir = ROOT + '/data/raw/flights'\n",
    "    outdir = ROOT + '/data/processed/flights'\n",
    "\n",
    "    total = None\n",
    "    commercial = None\n",
    "    \n",
    "    def load():\n",
    "        li = []\n",
    "\n",
    "        for file in glob.glob(Flights.indir + \"/number-of-commercial-fli*.csv\"):\n",
    "            li.append(\n",
    "                pd.read_csv(\n",
    "                    file,\n",
    "                    names = [ 'date', '7day_average', 'count' ],\n",
    "                    header=0,\n",
    "                    sep = ';',\n",
    "                    parse_dates = [\n",
    "                        'date',\n",
    "                    ], keep_date_col=False        \n",
    "                )\n",
    "            )\n",
    "        Flights.commercial = pd.concat(li, axis=0, ignore_index=True).drop_duplicates()\n",
    "        Flights.commercial.set_index('date', inplace=True)\n",
    "        \n",
    "\n",
    "        li = []\n",
    "\n",
    "        for file in glob.glob(Flights.indir + \"/total-number-of-flights*.csv\"):\n",
    "            li.append(\n",
    "                pd.read_csv(\n",
    "                    file,\n",
    "                    names = [ 'date', '7day_average', 'count' ],\n",
    "                    header=0,\n",
    "                    sep = ';',\n",
    "                    parse_dates = [\n",
    "                        'date',\n",
    "                    ], keep_date_col=False        \n",
    "                )\n",
    "            )\n",
    "        Flights.total = pd.concat(li, axis=0, ignore_index=True).drop_duplicates()\n",
    "        Flights.total.set_index('date', inplace=True)\n",
    "\n",
    "        \n",
    "    def commercial():\n",
    "        return Flights.commercial\n",
    "\n",
    "    def total():\n",
    "        return Flights.total\n",
    "\n",
    "    def combined():\n",
    "        combined = pd.merge(\n",
    "            Flights.commercial,\n",
    "            Flights.total,\n",
    "            left_index=True, right_index=True,\n",
    "            how='outer',\n",
    "        )\n",
    "        combined.columns=['commercial_7day_average', 'commercial', 'total_7day_average', 'total']\n",
    "        return combined;\n",
    "\n",
    "Flights.load()"
   ]
  }
 ],
 "metadata": {
  "kernelspec": {
   "display_name": "Python 3",
   "language": "python",
   "name": "python3"
  },
  "language_info": {
   "codemirror_mode": {
    "name": "ipython",
    "version": 3
   },
   "file_extension": ".py",
   "mimetype": "text/x-python",
   "name": "python",
   "nbconvert_exporter": "python",
   "pygments_lexer": "ipython3",
   "version": "3.7.6"
  },
  "widgets": {
   "application/vnd.jupyter.widget-state+json": {
    "state": {},
    "version_major": 2,
    "version_minor": 0
   }
  }
 },
 "nbformat": 4,
 "nbformat_minor": 4
}
