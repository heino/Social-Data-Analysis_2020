{
 "cells": [
  {
   "cell_type": "code",
   "execution_count": 1,
   "metadata": {},
   "outputs": [],
   "source": [
    "import pandas as pd"
   ]
  },
  {
   "cell_type": "code",
   "execution_count": null,
   "metadata": {},
   "outputs": [],
   "source": [
    "if not 'ROOT' in globals():\n",
    "    import os\n",
    "    ROOT = os.getcwd() + '/../..'"
   ]
  },
  {
   "cell_type": "code",
   "execution_count": 2,
   "metadata": {},
   "outputs": [],
   "source": [
    "# Make sure output dir exists\n",
    "#if not os.path.exists(outdir):\n",
    "#    os.mkdir(outdir)"
   ]
  },
  {
   "cell_type": "code",
   "execution_count": 28,
   "metadata": {},
   "outputs": [],
   "source": [
    "import os\n",
    "\n",
    "class OWIDold:\n",
    "\n",
    "    indir = ROOT + '/data/raw/owid'\n",
    "    outdir = ROOT + '/data/processed/owid'\n",
    "\n",
    "    data = None\n",
    "    cleaned = None\n",
    "    \n",
    "    def load():\n",
    "        OWIDold.data = pd.read_csv(\n",
    "            OWIDold.indir + '/full-list-cumulative-total-tests-per-thousand.csv',\n",
    "            names = [ 'name', 'code', 'date', 'count' ],\n",
    "            header=0,\n",
    "            dtype = {\n",
    "                'name': 'category',\n",
    "                'code': 'category'\n",
    "            },\n",
    "            parse_dates = ['date']\n",
    "        )\n",
    "        \n",
    "    def cleaned():\n",
    "        return OWIDold.data[OWIDold.data['code'].notnull()]\n",
    "        \n",
    "    def count():\n",
    "        count = OWIDold.cleaned()[OWIDold.cleaned()['code'].notnull()].drop(['name'], axis=1).set_index(['date', 'code']).unstack()\n",
    "        return count['count']\n",
    "        \n",
    "    def countries():\n",
    "        return OWIDold.cleaned()[['code', 'name']].set_index('code').drop_duplicates()"
   ]
  },
  {
   "cell_type": "code",
   "execution_count": 27,
   "metadata": {},
   "outputs": [],
   "source": [
    "OWIDold.load()"
   ]
  },
  {
   "cell_type": "code",
   "execution_count": 7,
   "metadata": {},
   "outputs": [],
   "source": [
    "if False:\n",
    "    \n",
    "    OWIDold.cleaned().to_csv(\n",
    "        outdir + '/cleaned.csv',\n",
    "        sep='|'\n",
    "    )\n",
    "\n",
    "    OWIDold.count().to_csv(\n",
    "        outdir + '/count.csv',\n",
    "        sep='|'\n",
    "    )\n",
    "    \n",
    "    OWIDold.countries().to_csv(\n",
    "        outdir + '/countries.csv',\n",
    "        sep='|'\n",
    "    )"
   ]
  }
 ],
 "metadata": {
  "kernelspec": {
   "display_name": "Python 3",
   "language": "python",
   "name": "python3"
  },
  "language_info": {
   "codemirror_mode": {
    "name": "ipython",
    "version": 3
   },
   "file_extension": ".py",
   "mimetype": "text/x-python",
   "name": "python",
   "nbconvert_exporter": "python",
   "pygments_lexer": "ipython3",
   "version": "3.7.6"
  },
  "widgets": {
   "application/vnd.jupyter.widget-state+json": {
    "state": {},
    "version_major": 2,
    "version_minor": 0
   }
  }
 },
 "nbformat": 4,
 "nbformat_minor": 4
}
