{
 "cells": [
  {
   "cell_type": "markdown",
   "metadata": {},
   "source": [
    "# Leftovers after moving to Countries"
   ]
  },
  {
   "cell_type": "code",
   "execution_count": 3,
   "metadata": {},
   "outputs": [],
   "source": [
    "import json\n",
    "\n",
    "class Maps:\n",
    "    \n",
    "    def load():\n",
    "        return\n",
    "    gith\n",
    "    \n",
    "\n",
    "    \n",
    "    def clean_properties(geojson):\n",
    "        for feature in geojson['features']:\n",
    "            feature['properties'] = {}\n",
    "        return geojson\n",
    "\n",
    "    def add_to_properties(geojson, df):\n",
    "        for feature in geojson['features']:\n",
    "            print(feature['id'])\n",
    "#            print(countries.set_index('ISO3166-1-Alpha-3').loc[feature['id']])\n",
    "            feature['properties'].update(df.set_index('ISO3166-1-Alpha-3').loc[feature['id']])     \n",
    "        return geojson\n"
   ]
  },
  {
   "cell_type": "code",
   "execution_count": 5,
   "metadata": {},
   "outputs": [],
   "source": [
    "#with pd.option_context('display.max_rows', None, 'display.max_columns', None):"
   ]
  },
  {
   "cell_type": "code",
   "execution_count": 6,
   "metadata": {},
   "outputs": [],
   "source": [
    "#Maps.clean_properties(geojson)\n",
    "#Maps.add_to_properties(geojson, countries)\n",
    "#geojson['features'][0]"
   ]
  }
 ],
 "metadata": {
  "kernelspec": {
   "display_name": "Python 3",
   "language": "python",
   "name": "python3"
  },
  "language_info": {
   "codemirror_mode": {
    "name": "ipython",
    "version": 3
   },
   "file_extension": ".py",
   "mimetype": "text/x-python",
   "name": "python",
   "nbconvert_exporter": "python",
   "pygments_lexer": "ipython3",
   "version": "3.7.6"
  },
  "widgets": {
   "application/vnd.jupyter.widget-state+json": {
    "state": {},
    "version_major": 2,
    "version_minor": 0
   }
  }
 },
 "nbformat": 4,
 "nbformat_minor": 4
}
