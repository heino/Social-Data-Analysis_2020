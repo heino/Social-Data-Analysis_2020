{
 "cells": [
  {
   "cell_type": "code",
   "execution_count": 1,
   "metadata": {},
   "outputs": [],
   "source": [
    "import pandas as pd\n",
    "import numpy as np"
   ]
  },
  {
   "cell_type": "code",
   "execution_count": null,
   "metadata": {},
   "outputs": [],
   "source": [
    "if not 'ROOT' in globals():\n",
    "    import os\n",
    "    ROOT = os.getcwd() + '/../..'"
   ]
  },
  {
   "cell_type": "code",
   "execution_count": 2,
   "metadata": {},
   "outputs": [],
   "source": [
    "# Make sure output dir exists\n",
    "#if not os.path.exists(outdir):\n",
    "#    os.mkdir(outdir)"
   ]
  },
  {
   "cell_type": "code",
   "execution_count": 6,
   "metadata": {},
   "outputs": [],
   "source": [
    "import os\n",
    "\n",
    "class Oil:\n",
    "    \n",
    "    indir = ROOT + '/data/raw/oil'\n",
    "    outdir = ROOT + '/data/processed/oil'\n",
    "\n",
    "\n",
    "    data_brent = None\n",
    "    data_twi = None\n",
    "\n",
    "    data_merged = None\n",
    "\n",
    "    def load():\n",
    "        \n",
    "        Oil.data_brent = pd.read_csv(\n",
    "            Oil.indir + '/brent-daily_csv.csv',\n",
    "            index_col = 'Date',\n",
    "            parse_dates = ['Date'], keep_date_col=True\n",
    "        )\n",
    "\n",
    "        Oil.data_twi = pd.read_csv(\n",
    "            Oil.indir + '/wti-daily_csv.csv',\n",
    "            index_col = 'Date',\n",
    "            parse_dates = ['Date'], keep_date_col=True\n",
    "        )\n",
    "        \n",
    "        Oil.data_merged = pd.merge(\n",
    "            Oil.data_brent, Oil.data_twi,\n",
    "            left_index=True, right_index=True,\n",
    "            suffixes=('_Brent', '_Twi'),\n",
    "            how='outer'\n",
    "        )\n",
    "        Oil.data_merged.columns = ['Breant', 'Twi']\n",
    "        Oil.data_merged['Average'] = Oil.data_merged.mean(numeric_only=True, axis=1)"
   ]
  },
  {
   "cell_type": "code",
   "execution_count": 7,
   "metadata": {},
   "outputs": [],
   "source": [
    "Oil.load()"
   ]
  }
 ],
 "metadata": {
  "kernelspec": {
   "display_name": "Python 3",
   "language": "python",
   "name": "python3"
  },
  "language_info": {
   "codemirror_mode": {
    "name": "ipython",
    "version": 3
   },
   "file_extension": ".py",
   "mimetype": "text/x-python",
   "name": "python",
   "nbconvert_exporter": "python",
   "pygments_lexer": "ipython3",
   "version": "3.7.6"
  },
  "widgets": {
   "application/vnd.jupyter.widget-state+json": {
    "state": {},
    "version_major": 2,
    "version_minor": 0
   }
  }
 },
 "nbformat": 4,
 "nbformat_minor": 4
}
