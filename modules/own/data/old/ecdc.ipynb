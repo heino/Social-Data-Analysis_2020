{
 "cells": [
  {
   "cell_type": "code",
   "execution_count": 1,
   "metadata": {},
   "outputs": [],
   "source": [
    "import pandas as pd"
   ]
  },
  {
   "cell_type": "code",
   "execution_count": null,
   "metadata": {},
   "outputs": [],
   "source": [
    "if not 'ROOT' in globals():\n",
    "    import os\n",
    "    ROOT = os.getcwd() + '/../..'"
   ]
  },
  {
   "cell_type": "code",
   "execution_count": 2,
   "metadata": {},
   "outputs": [],
   "source": [
    "# Make sure output dir exists\n",
    "#if not os.path.exists(outdir):\n",
    "#    os.mkdir(outdir)"
   ]
  },
  {
   "cell_type": "code",
   "execution_count": 3,
   "metadata": {},
   "outputs": [],
   "source": [
    "import os\n",
    "\n",
    "class ECDC:\n",
    "    \n",
    "    indir = ROOT + '/data/raw/ecdc/'\n",
    "    outdir = ROOT + '/data/processed/ecdc/'\n",
    "\n",
    "    data = None;\n",
    "    population2018 = None\n",
    "    \n",
    "    def load():\n",
    "        ECDC.data = pd.read_csv(\n",
    "            ECDC.indir + 'ecdc.csv',\n",
    "            names = [ 'dateRep', 'day', 'month', 'year', 'cases', 'deaths', 'name', 'code2', 'code3', 'population2018', 'continent' ],\n",
    "            header=0,\n",
    "            #index_col=['date', 'code3'],\n",
    "            dtype = {\n",
    "                'name': 'category',\n",
    "                'code2': 'category',\n",
    "                'code3': 'category',\n",
    "                'continent': 'category'\n",
    "            },\n",
    "            parse_dates = {\n",
    "                'date': ['year', 'month', 'day'],\n",
    "                'reported': ['dateRep']\n",
    "            }, keep_date_col=False\n",
    "        )\n",
    "\n",
    "        ECDC.population2018 = ECDC.data[['code3', 'population2018']].drop_duplicates()\n",
    "        ECDC.population2018.columns = ['country', 'population']\n",
    "        ECDC.population2018.set_index('country', inplace=True)\n",
    "        \n",
    "        \n",
    "        \n",
    "        ECDC.data.drop(['population2018'], axis=1, inplace=True)    \n",
    "            \n",
    "        # Following countries are missing 2 char country codes (= lost when dropping NaN):\n",
    "        # - Namibia\n",
    "\n",
    "        ECDC.data = ECDC.data[ ECDC.data['code2'].notnull()]\n",
    "\n",
    "        # Following countries are missing 3 char country codes (= lost when dropping NaN):\n",
    "        # - Anguilla\n",
    "        # - Bonaire, Saint Eustatius and Saba\n",
    "        # - Cases_on_an_international_conveyance_Japan\n",
    "        # - Czechia\n",
    "        # - Falkland_Islands_(Malvinas)\n",
    "\n",
    "        ECDC.data = ECDC.data[ ECDC.data['code3'].notnull()]\n",
    "        \n",
    "        \n",
    "        ECDC.data.drop(['code2'], axis=1, inplace=True)\n",
    "        ECDC.data.rename(columns={'code3': 'country'}, inplace=True)\n",
    "        \n",
    "    \n",
    "        ECDC.data.set_index(['date', 'country'], inplace=True)\n",
    "        \n",
    "        \n",
    "    def cases_and_deaths():\n",
    "        return ECDC.data.drop(['name', 'reported', 'continent' ], axis=1)\n",
    "\n",
    "    def cases():\n",
    "        return ECDC.cases_and_deaths()['cases']\n",
    "\n",
    "    def deaths():\n",
    "        return ECDC.cases_and_deaths()['deaths']\n",
    "\n",
    "    def countries():\n",
    "        return ECDC.data.reset_index()[['country', 'name']].set_index('country').drop_duplicates()\n",
    "    \n",
    "    def population():\n",
    "        return ECDC.population2018"
   ]
  },
  {
   "cell_type": "code",
   "execution_count": 4,
   "metadata": {},
   "outputs": [],
   "source": [
    "ECDC.load()"
   ]
  },
  {
   "cell_type": "code",
   "execution_count": 5,
   "metadata": {},
   "outputs": [],
   "source": [
    "if False:\n",
    "    ECDC.cases_and_deaths()['cases'].unstack().to_csv(\n",
    "        outdir + 'cases.csv',\n",
    "        sep='|'\n",
    "    )\n",
    "\n",
    "    ECDC.cases_and_deaths()['deaths'].unstack().to_csv(\n",
    "        outdir + 'deaths.csv',\n",
    "        sep='|'\n",
    "    )\n",
    "\n",
    "    #ECDC.cases_and_deaths()['cases'].unstack()['DNK'].to_csv(\n",
    "    #    'python/cases-DNK.csv',\n",
    "    #    sep='|'\n",
    "    #)"
   ]
  },
  {
   "cell_type": "code",
   "execution_count": 6,
   "metadata": {},
   "outputs": [],
   "source": [
    "if False:\n",
    "    ECDC.countries().to_csv(\n",
    "        outdir + 'countries.csv',\n",
    "        sep='|'\n",
    "    )"
   ]
  }
 ],
 "metadata": {
  "kernelspec": {
   "display_name": "Python 3",
   "language": "python",
   "name": "python3"
  },
  "language_info": {
   "codemirror_mode": {
    "name": "ipython",
    "version": 3
   },
   "file_extension": ".py",
   "mimetype": "text/x-python",
   "name": "python",
   "nbconvert_exporter": "python",
   "pygments_lexer": "ipython3",
   "version": "3.7.6"
  },
  "widgets": {
   "application/vnd.jupyter.widget-state+json": {
    "state": {},
    "version_major": 2,
    "version_minor": 0
   }
  }
 },
 "nbformat": 4,
 "nbformat_minor": 4
}
