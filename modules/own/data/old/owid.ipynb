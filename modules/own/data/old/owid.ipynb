{
 "cells": [
  {
   "cell_type": "code",
   "execution_count": 1,
   "metadata": {},
   "outputs": [],
   "source": [
    "import pandas as pd"
   ]
  },
  {
   "cell_type": "code",
   "execution_count": null,
   "metadata": {},
   "outputs": [],
   "source": [
    "if not 'ROOT' in globals():\n",
    "    import os\n",
    "    ROOT = os.getcwd() + '/../..'"
   ]
  },
  {
   "cell_type": "code",
   "execution_count": 2,
   "metadata": {},
   "outputs": [],
   "source": [
    "# Make sure output dir exists\n",
    "#if not os.path.exists(outdir):\n",
    "#    os.mkdir(outdir)"
   ]
  },
  {
   "cell_type": "code",
   "execution_count": 7,
   "metadata": {},
   "outputs": [],
   "source": [
    "import os\n",
    "\n",
    "class OWID:\n",
    "\n",
    "    indir = ROOT + '/data/raw/testing'\n",
    "    outdir = ROOT + '/data/processed/testing'\n",
    "\n",
    "    data = None\n",
    "    \n",
    "    def load():\n",
    "        OWID.data = pd.read_csv(\n",
    "            OWID.indir + '/owid-covid-data.csv', \n",
    "            usecols=[\"iso_code\", \"location\", \"date\", \"total_tests\", \"new_tests\", \"tests_units\"],\n",
    "            dtype = {\n",
    "                'location': 'category',\n",
    "                'iso_code': 'category'\n",
    "            },\n",
    "            parse_dates = ['date']\n",
    "        )[[\"location\", \"iso_code\", \"date\", \"total_tests\", \"new_tests\", \"tests_units\"]]\n",
    "        OWID.data.columns = ['name','country', \"date\", \"total_tests\", \"new_tests\", \"tests_units\"]\n",
    "        \n",
    "        OWID.data.set_index(['date', 'country'], inplace=True)\n",
    "        \n",
    "    def x():\n",
    "        return OWID.data.drop(['name'], axis=1).set_index(['date', 'code']).unstack()\n",
    "\n",
    "    def countries():\n",
    "        return OWID.data[['code', 'name']].set_index('code').drop_duplicates()"
   ]
  },
  {
   "cell_type": "code",
   "execution_count": 8,
   "metadata": {},
   "outputs": [],
   "source": [
    "OWID.load()"
   ]
  },
  {
   "cell_type": "code",
   "execution_count": 6,
   "metadata": {},
   "outputs": [],
   "source": [
    "if False:\n",
    "    \n",
    "    OWID.data.to_csv(\n",
    "        outdir + '/cleaned.csv',\n",
    "        sep='|'\n",
    "    )\n",
    "\n",
    "    owid_x['total'].to_csv(\n",
    "        outdir + '/total_count.csv',\n",
    "        sep='|'\n",
    "    )\n",
    "\n",
    "    owid_x['new'].to_csv(\n",
    "        outdir + '/new_count.csv',\n",
    "        sep='|'\n",
    "    )\n",
    "\n",
    "    owid_x['units'].to_csv(\n",
    "        outdir + '/test_units.csv',\n",
    "        sep='|'\n",
    "    )\n",
    "\n",
    "    owid_countries.to_csv(\n",
    "        outdir + '/countries.csv',\n",
    "        sep='|'\n",
    "    )"
   ]
  }
 ],
 "metadata": {
  "kernelspec": {
   "display_name": "Python 3",
   "language": "python",
   "name": "python3"
  },
  "language_info": {
   "codemirror_mode": {
    "name": "ipython",
    "version": 3
   },
   "file_extension": ".py",
   "mimetype": "text/x-python",
   "name": "python",
   "nbconvert_exporter": "python",
   "pygments_lexer": "ipython3",
   "version": "3.7.6"
  },
  "widgets": {
   "application/vnd.jupyter.widget-state+json": {
    "state": {},
    "version_major": 2,
    "version_minor": 0
   }
  }
 },
 "nbformat": 4,
 "nbformat_minor": 4
}
